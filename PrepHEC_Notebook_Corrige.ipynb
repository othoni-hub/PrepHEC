{
  "nbformat": 4,
  "nbformat_minor": 0,
  "metadata": {
    "colab": {
      "provenance": [],
      "authorship_tag": "ABX9TyM1Qu3G+5xjg8WeAKCdG8JJ",
      "include_colab_link": true
    },
    "kernelspec": {
      "name": "python3",
      "display_name": "Python 3"
    },
    "language_info": {
      "name": "python"
    }
  },
  "cells": [
    {
      "cell_type": "markdown",
      "metadata": {
        "id": "view-in-github",
        "colab_type": "text"
      },
      "source": [
        "<a href=\"https://colab.research.google.com/github/othoni-hub/PrepHEC/blob/main/PrepHEC_Notebook_Corrige.ipynb\" target=\"_parent\"><img src=\"https://colab.research.google.com/assets/colab-badge.svg\" alt=\"Open In Colab\"/></a>"
      ]
    },
    {
      "cell_type": "markdown",
      "source": [
        "<img src=\"https://drive.google.com/uc?id=1hxCggH2vMzGCvHbv9c1CmOsdK6fPeayq\" width=\"630\" height=\"200\" />\n",
        "\n",
        "# **Séminaire Prep'HEC 2023 : TP \"Les bases du langage Python\"**\n",
        "\n"
      ],
      "metadata": {
        "id": "Bbb8prC9FRqj"
      }
    },
    {
      "cell_type": "markdown",
      "source": [
        "<img src=\"https://drive.google.com/uc?id=12Wo3LubGGT4qOvYFAuLP4CyCuwjKNVuk\" width=\"230\" height=\"150\" align = \"right\"/>\n",
        "\n",
        "\n",
        "\n",
        "\n",
        "**Olivier THÖNI**\n",
        "\n",
        "**Professeur Agrégé de Mathématiques**\n",
        "\n",
        "**CPGE  ECG - Maths Appliquées, Lycée Saint-Charles Sainte Croix - LE MANS**"
      ],
      "metadata": {
        "id": "7M2V22LvFxzu"
      }
    },
    {
      "cell_type": "markdown",
      "source": [
        "## **La pensée algorithmique**\n",
        "\n",
        "La pensée algorithmique ou \"algorithmique\" consiste, pour la réalisation d'une tâche donnée à décomposer cette tâche en sous-tâche plus simples, les ordonner et les articuler pour qu'elles réalisent la tâche attendue.\n",
        "\n",
        "Par analogie, pour réaliser une tourte aux pêches, il faut  \n",
        "* réunir les ingrédients, en quantités **variables** selon le nombre de parts que l'on souhaite\n",
        "* réaliser la pâte\n",
        "* préparer l'*appareil*\n",
        "* préparer les fruits\n",
        "* *monter* la tourte\n",
        "* faire cuire\n",
        "\n",
        "Chacune de ces actions peut elle-même être découpée en **instructions** plus simples\n",
        "* Pour réaliser la pâte :    \n",
        "    * Mélangez la farine et le sel.\n",
        "    * Ajoutez le beurre.\n",
        "    * Ajoutez petit à petit l’eau froide jusqu’à former une boule.\n",
        "    * Filmez la pâte\n",
        "    * et mettez-la au frais quelques minutes.\n",
        "\n",
        "etc.\n",
        "(Pour la recette complète... voir ici : https://www.iletaitungateau.com/articles/462 ) 😛\n",
        "\n",
        "Les instructions utilisent un langage spécifique (Préparer l'\"appareil\",\"Foncer\" le moule, \"Émonder\" les pêches, \"Filmer\" la pâte...)\n",
        "\n",
        "On retrouve tout cela en algorithmique : un algorithme utilise des **variables**, et les fait évoluer à l'aide d'**instructions** élémentaires (les briques de l'algorithmes.... les blocs de Scratch, par exemple).\n",
        "\n",
        "Ces instructions sont au nombre de 4, ni plus, ni moins :     \n",
        "* l'**affectation** : on attribue une valeur à une variable\n",
        "* les instructions d'**entrée/sortie** : la machine intéragit avec l'utilisateur humain, pour qu'il saisisse une valeur (instruction de **lecture**) ou pour lui afficher une valeur à l'écran (instruction d'**écriture**)\n",
        "* les structures conditionnelles, ou **tests** (si quelque chose est constaté, faire quelque chose, sinon, faire autre chose)\n",
        "* les structures répétitives ou **boucles** (*Tant qu'une condition n'est pas réalisée, faire quelque chose*, ou bien *répéter un certain nombre de fois telle suite d'actions*)\n",
        "\n",
        "On peut soi-même fabriquer de nouvelles structures plus complexes regroupant des instructions élémentaires, pour automatiser certaines sous-tâches de la tâche principale, ce sont les **fonctions** : celles-ci, *en fonction de* certains paramètres, vont **retourner** des résultats partiels, nécessaires à la tâche principale.\n",
        "\n",
        "La pensée algorithmique fait totalement partie de la pensée mathématique : depuis les petites classes, soit on raisonne de manière hypothético-déductive (ex : \"prouver qu'un bidule est un rectangle\"...), soit de manière algorithmique (ex : \"construire un rectangle\"). C'est pourquoi elle fait partie du bagage mathématique de tout bon préparationnaire en filière ECG !!!\n",
        "\n"
      ],
      "metadata": {
        "id": "131AoO5eFjWA"
      }
    },
    {
      "cell_type": "markdown",
      "source": [
        "## **Le langage Python**\n"
      ],
      "metadata": {
        "id": "vKiR6XtdPnKd"
      }
    },
    {
      "cell_type": "markdown",
      "source": [
        "\n",
        "### **Préambule**\n",
        "\n",
        "Pour pouvoir être exécutées par une machine, les instructions d'un algorithme doivent être traduites dans un langage de programmation, tel Python.\n",
        "\n",
        "Python est le langage de programmation requis par le programme de mathématiques en classe prépa ECG, dans la continuité des programmes de lycée (mais il se peut que certain·e·s n'en aient pas fait beaucoup...).\n",
        "\n",
        "Le but de cette séance est de remettre en route son usage (voire le démarrer...), et surtout de le dédramatiser !\n",
        "\n",
        "Python est très utile pour aider à comprendre certaines notions mathématiques, pour simuler des expériences, représenter des phénomènes, etc...\n",
        "\n",
        "...et plutôt facile à apprendre : il permet de traduire simplement la pensée algorithmique, et des modules complémentaires (qu'on utilise toujours avec les indications nécessaires) permettent d'étendre les fonctionnalités du langage (tracé de graphiques, calcul numérique, mathématique, simulation du hasard, etc.)\n",
        "\n",
        "En fin de 2<sup>ème</sup> année, aux concours, chaque exercice des sujets de mathématiques comportera une petite (ou pas...) question faisant usage de Python, ces questions sont très valorisées dans le barême et permettent vraiment de se démarquer !\n"
      ],
      "metadata": {
        "id": "niyLzA-vHRjH"
      }
    },
    {
      "cell_type": "markdown",
      "source": [
        "### **Outils**\n",
        "\n",
        "\n",
        "Python est gratuit et peut être utilisé installé sur poste, ou bien portable, depuis une clé USB, ou encore en ligne.\n",
        "\n",
        "Votre professeur de mathématiques vous imposera peut-être une façon d'utiliser Python. Pour votre séminaire, voici quelques conseils (vous pourrez conserver ces propositions si votre professur n'a pas d'exigences à ce sujet)\n",
        "\n",
        "* à installer sur poste ou portable sur clé\n",
        "    * Windows, Mac : ***Thonny*** : https://thonny.org/\n",
        "    * Plus complet mais Windows uniquement et version portable (utilisable directement depuis une clé USB) : ***Edupyter*** : https://www.edupyter.net/\n",
        "\n",
        "* en ligne (compatible RGPD) : ***Basthon*** (BAc à Sable pour pyTHON) : https://basthon.fr/\n",
        "\n",
        "Il y a deux façons d'éditer du code Python :     \n",
        "* Dans un ***IDE*** (Interface de Développement Intégré), comme celui de Thonny, on a alors plusieurs zones : notamment la console, pour executer les calculs ou les programmes, et l'éditeur, pour écrire des programmes.\n",
        "\n",
        "* Dans un ***Jupyter Notebook*** comme celui que vous êtes en train de lire : c'est un mode très avantageux, il permet de mêler du texte, des codes Python, et leurs exécutions. Très intéressant pour garder la trace de ses essais successifs. Et très pratique pour apprendre ou pour se constituer un compte-rendu de TP. (Edupyter et Basthon permettent d'utiliser indifféremment les deux modes IDE ou NoteBook).\n",
        "\n",
        "Les fichiers Python se reconnaissent à leur extension **\".py\"**, les NoteBooks Jupyter, portent l'extension **\".ipynb\"**.\n",
        "\n",
        "Personnellement, pour apprendre, ou pour rendre compte, je trouve que les NoteBooks Jupyter sont un outil formidable, permettant de mêler des cellules de texte, des cellules de code Python, et de les exécuter, en gardant les traces de la progression, contrairement aux programmes écrits dans l'IDE, où l'on n'a que le produit final.\n",
        "\n",
        "Si vous utilisez Edupyter, vous pouvez y constituer directement des NoteBooks, sinon, rendez-vous sur Basthon.\n",
        "\n",
        "Où que vous soyez, pensez à enregistrer régulièrement votre travail en lieu sûr  !!!\n"
      ],
      "metadata": {
        "id": "a-LyTXJHJIGU"
      }
    },
    {
      "cell_type": "markdown",
      "source": [
        "## **Travaux Pratiques de (re-?)mise en route**\n",
        "\n",
        "(Constituez votre propre NoteBook ou vos propres programmes, bien nommés, bien rangés)"
      ],
      "metadata": {
        "id": "WjQlebL_OEAq"
      }
    },
    {
      "cell_type": "markdown",
      "source": [
        "### **TP n°1 : les bases de l'algorithmique et de la programmation Python**\n",
        "\n",
        "**La suite de Syracuse**\n",
        "\n",
        "1. *Prenez un nombre entier, s'il est pair, divisez-le par 2, sinon, multipliez-le par 3 et ajoutez 1*\n",
        "\n",
        "Voici cet algorithme traduit en langage Python.. ou presque.\n",
        "Pour fonctionner, le contenu des **structures** d'un programme Python doit être aligné sur une même marge.\n",
        "\n",
        "On appelle cela l'**indentation**.\n",
        "Rétablissez les indentations du programme ci-dessous pour qu'il fonctionne.\n",
        "\n",
        "        n = int(input('Entrez un entier n : '))\n",
        "        if n%2 == 0 :\n",
        "        print(n, ' pair.')\n",
        "        n = n//2\n",
        "        else :\n",
        "        print(n, ' impair.')\n",
        "        n = 3*n + 1\n",
        "        print('n devient ', n)"
      ],
      "metadata": {
        "id": "SfEfrDaKPe2X"
      }
    },
    {
      "cell_type": "code",
      "source": [
        "# Programme brut :\n",
        "n = int(input('Entrez un entier n : '))\n",
        "\n",
        "if n%2 == 0 :\n",
        "    print(n, ' pair.')\n",
        "    n = n//2\n",
        "\n",
        "else :\n",
        "    print(n, ' impair.')\n",
        "    n = 3*n + 1\n",
        "\n",
        "print('n devient ', n)"
      ],
      "metadata": {
        "colab": {
          "base_uri": "https://localhost:8080/"
        },
        "id": "iXTpZR1DqX45",
        "outputId": "266bcb72-3e88-4aaa-af51-c7d54c4ae32d"
      },
      "execution_count": null,
      "outputs": [
        {
          "output_type": "stream",
          "name": "stdout",
          "text": [
            "Entrez un entier n : 7\n",
            "7  impair.\n",
            "n devient  22\n"
          ]
        }
      ]
    },
    {
      "cell_type": "markdown",
      "source": [
        "**Remarque : structure algorithmique travaillée : \"Si... Alors ... , Sinon ...\"**"
      ],
      "metadata": {
        "id": "PuL4u0vu_Yd7"
      }
    },
    {
      "cell_type": "markdown",
      "source": [
        "Commenter le code précédent.\n",
        "\n",
        "(les commentaires sont précédés du signe **\"#\"** , tout ce qui se trouve derrière, sur la même ligne, ne fait pas partie du programme)"
      ],
      "metadata": {
        "id": "_rtpSxytrrgH"
      }
    },
    {
      "cell_type": "code",
      "source": [
        "# Demander la valeur de l'entier n\n",
        "n = int(input('Entrez un entier n : '))\n",
        "\n",
        "# Tester si n est pair\n",
        "\n",
        "if n%2 == 0 :   # Structure \"Si... Alors ...Sinon\"\n",
        "                # Le reste de la division de n par 2 vaut-il 0 ?\n",
        "                # Le signe \"==\" désigne le test d'égalité\n",
        "    # si oui\n",
        "    print(n, ' pair.')\n",
        "    n = n//2    # on réaffecte n à sa nouvelle valeur : la moitié de celle d'avant\n",
        "                # l'opération // désigne la division entière (\"euclidienne\")\n",
        "\n",
        "else :\n",
        "    # si non\n",
        "    print(n, ' impair.')\n",
        "    n = 3*n + 1 # on réaffecte n avec sa nouvelle valeur dans ce cas\n",
        "\n",
        "print('n devient ', n)"
      ],
      "metadata": {
        "colab": {
          "base_uri": "https://localhost:8080/"
        },
        "id": "qlHK6af8pplo",
        "outputId": "4951d7b7-cd69-42b8-dbe9-1f2c8c456f91"
      },
      "execution_count": null,
      "outputs": [
        {
          "output_type": "stream",
          "name": "stdout",
          "text": [
            "Entrez un entier n : 7\n",
            "7  impair.\n",
            "n devient  22\n"
          ]
        }
      ]
    },
    {
      "cell_type": "markdown",
      "source": [
        "On peut aussi écrire une fonction qui reçoit en paramètre d'entrée un enter n et qui retourne le n modifié"
      ],
      "metadata": {
        "id": "me1HN5q5sKxV"
      }
    },
    {
      "cell_type": "code",
      "source": [
        "def suivant(n) :    # entête de la fonction\n",
        "    if n%2 == 0 :\n",
        "        n = n//2\n",
        "    else :\n",
        "        n = 3*n + 1\n",
        "    return n        # résultat de la fonction"
      ],
      "metadata": {
        "id": "j66a5JChsJ_D"
      },
      "execution_count": null,
      "outputs": []
    },
    {
      "cell_type": "code",
      "source": [
        "suivant(7)"
      ],
      "metadata": {
        "colab": {
          "base_uri": "https://localhost:8080/"
        },
        "id": "PilcFu2Ssskl",
        "outputId": "599a179a-93bc-4ca9-f2ea-9f41b02ac09d"
      },
      "execution_count": null,
      "outputs": [
        {
          "output_type": "execute_result",
          "data": {
            "text/plain": [
              "22"
            ]
          },
          "metadata": {},
          "execution_count": 4
        }
      ]
    },
    {
      "cell_type": "code",
      "source": [
        "suivant(22)"
      ],
      "metadata": {
        "colab": {
          "base_uri": "https://localhost:8080/"
        },
        "id": "avAKSdoxtGen",
        "outputId": "b50884f0-39dd-4bbc-f1dc-9dd4f7b8382c"
      },
      "execution_count": null,
      "outputs": [
        {
          "output_type": "execute_result",
          "data": {
            "text/plain": [
              "11"
            ]
          },
          "metadata": {},
          "execution_count": 5
        }
      ]
    },
    {
      "cell_type": "markdown",
      "source": [
        "**Remarque : structure travaillée pour la modularisation algorithmique : Fonction**"
      ],
      "metadata": {
        "id": "lEh3mSHE_mxc"
      }
    },
    {
      "cell_type": "markdown",
      "metadata": {
        "id": "Xbaj-ReGek63"
      },
      "source": [
        "2. *Il paraît que lorsque l'on réitère le processus avec le nouvel entier obtenu, on finit toujours par atteindre la valeur 1. C'est ce procédé que l'on appelle la* ***suite de Syracuse***. (ce sont les mathématiciens qui le disent, mais cette propriété n'a jamais été prouvée, on n'a juste jamais trouvé de contre-exemple, on parle de conjecture...)\n",
        "\n",
        "Écrire ou dessiner l'algorithme modifié pour qu'il effectue ces itérations, et le traduire en langage Python."
      ]
    },
    {
      "cell_type": "code",
      "metadata": {
        "id": "p9vih5HRek64",
        "outputId": "37c33f40-62b3-461a-bd37-a07a4225abc1",
        "colab": {
          "base_uri": "https://localhost:8080/"
        }
      },
      "source": [
        "# Algorithmiquement\n",
        "n = int(input('Entrez un entier n : '))\n",
        "print(n, \" \", end = '')\n",
        "\n",
        "while  n != 1 : # Boucle \"Tant que...\"\n",
        "    if n%2 == 0 :\n",
        "        n = n//2\n",
        "\n",
        "    else :\n",
        "        n = 3*n + 1\n",
        "\n",
        "    print(n, \" \", end = '')\n"
      ],
      "execution_count": null,
      "outputs": [
        {
          "output_type": "stream",
          "name": "stdout",
          "text": [
            "Entrez un entier n : 7\n",
            "7  22  11  34  17  52  26  13  40  20  10  5  16  8  4  2  1  "
          ]
        }
      ]
    },
    {
      "cell_type": "code",
      "source": [
        "# au moyen d'une fonction\n",
        "def syracuse(n) :\n",
        "    '''Cette fonction reçoit un entier n en paramètre d'entrée\n",
        "    et retourne la liste des entiers jusqu'à 1 dans la suite de Syracuse'''\n",
        "    # Le contenu de la descrption entre ''' s'appelle les DocStrings. Ils peuvent servir d'aide à la fonction\n",
        "\n",
        "    u = [n] # on fabrique une liste, qui va s'allonger à chaque passage dans la boucle\n",
        "\n",
        "    while  n != 1 :     # le symbole \"!=\" désigne le test de non-égalité\n",
        "        n = suivant(n)  # on réaffecte n, en réutilisant la fonction \"suivant\" précédemment définie\n",
        "        u.append(n)     # on allonge la liste avec la nouvelle valeur\n",
        "    return u\n"
      ],
      "metadata": {
        "id": "HzmT1WHou34F"
      },
      "execution_count": null,
      "outputs": []
    },
    {
      "cell_type": "code",
      "source": [
        "help(syracuse)"
      ],
      "metadata": {
        "colab": {
          "base_uri": "https://localhost:8080/"
        },
        "id": "RLrY9_g4BRvd",
        "outputId": "67337e39-a7b8-485a-e1fa-e4391b995123"
      },
      "execution_count": null,
      "outputs": [
        {
          "output_type": "stream",
          "name": "stdout",
          "text": [
            "Help on function syracuse in module __main__:\n",
            "\n",
            "syracuse(n)\n",
            "    Cette fonction reçoit un entier n en paramètre d'entrée\n",
            "    et retourne la liste des entiers jusqu'à 1 dans la suite de Syracuse\n",
            "\n"
          ]
        }
      ]
    },
    {
      "cell_type": "code",
      "source": [
        "syracuse(7)"
      ],
      "metadata": {
        "colab": {
          "base_uri": "https://localhost:8080/"
        },
        "id": "vKoG95IUyfl7",
        "outputId": "967192c7-be95-4f51-8d4d-c42c8642b91d"
      },
      "execution_count": null,
      "outputs": [
        {
          "output_type": "execute_result",
          "data": {
            "text/plain": [
              "[7, 22, 11, 34, 17, 52, 26, 13, 40, 20, 10, 5, 16, 8, 4, 2, 1]"
            ]
          },
          "metadata": {},
          "execution_count": 9
        }
      ]
    },
    {
      "cell_type": "markdown",
      "source": [
        "3. *Le nombre d'entiers rencontrés entre le nombre de départ (inclus) et 1 (inclus) s'appelle le* ***temps de vol*** *de n.*\n",
        "\n",
        "Compléter le programme précédent pour qu'il calcule et affiche le temps de vol."
      ],
      "metadata": {
        "id": "KdocmXf3wgS9"
      }
    },
    {
      "cell_type": "code",
      "source": [
        "# n = int(input('Entrez un entier n : '))\n",
        "n = 7 # ça évite d'avoir à saisir n à chaque exécution\n",
        "\n",
        "temps_de_vol = 1\n",
        "print(n, \" \", end = '')\n",
        "\n",
        "while  n != 1 :\n",
        "    if n%2 == 0 :\n",
        "        n = n//2\n",
        "\n",
        "    else :\n",
        "        n = 3*n + 1\n",
        "    temps_de_vol = temps_de_vol + 1 # que l'on peut écrire aussi : temps_de_vol += 1\n",
        "    print(n, \" \", end = '')\n",
        "\n",
        "print()\n",
        "print('Temps de vol : ' + str(temps_de_vol))\n"
      ],
      "metadata": {
        "colab": {
          "base_uri": "https://localhost:8080/"
        },
        "id": "zSz2xx2hypst",
        "outputId": "f768f42b-4d38-4d2a-bf4f-c2ab87f126e6"
      },
      "execution_count": null,
      "outputs": [
        {
          "output_type": "stream",
          "name": "stdout",
          "text": [
            "7  22  11  34  17  52  26  13  40  20  10  5  16  8  4  2  1  \n",
            "Temps de vol : 17\n"
          ]
        }
      ]
    },
    {
      "cell_type": "markdown",
      "source": [
        "4. *Altitude de n ?*\n",
        "\n",
        "L'algorithme précédent a été modifié, dans le schéma ci-dessous, pour qu'il calcule une nouvelle variable.\n",
        "\n",
        "Quel est son nom ? Quel est son type ?\n",
        "\n",
        "Comment évolue-t-elle dans le programme ?\n",
        "Pourquoi sa réaffectation a-t-elle été placée ici ?\n",
        "\n",
        "À quoi sert-elle (pourquoi ce nom d'altitude) ?\n",
        "\n",
        "Écrivez le programme Python de cet algorithme."
      ],
      "metadata": {
        "id": "i4MBt_Hy3ej3"
      }
    },
    {
      "cell_type": "markdown",
      "source": [
        "<img src=\"https://drive.google.com/uc?id=1ap0115CfzeIGJPGJtz7sY9Iba9J24gkl\" width=\"330\" height=\"750\"/>"
      ],
      "metadata": {
        "id": "AJ26J1ZX4S2k"
      }
    },
    {
      "cell_type": "markdown",
      "source": [
        "**Remarque :**\n",
        "\n",
        "Le logiciel utilisé pour tracer l'***algorigramme*** ci-dessus (pour Windows seulement, malheureusement) s'appelle ***FlowGorithm***. On peut le télécharger ici : http://www.flowgorithm.org/\n",
        "\n",
        "(Cerises sur le gâteau : on peut exécuter l'algorithme dans FlowGorithm et il peut traduire tout seul un algorigramme en langage Python !!!)\n",
        "\n",
        "Fichier FlowGorithm téléchargeable ici : https://drive.google.com/file/d/1TJA_0ZDgl7WN8GsPHCedRUR_aW_QFpgQ/view?usp=sharing"
      ],
      "metadata": {
        "id": "ulV6-2OZ4tr5"
      }
    },
    {
      "cell_type": "code",
      "source": [
        "n = 7\n",
        "temps_de_vol = 1\n",
        "altitude = n\n",
        "print(n, \" \", end = '')\n",
        "\n",
        "while  n != 1 :\n",
        "    if n%2 == 0 :\n",
        "        n = n//2\n",
        "\n",
        "    else :\n",
        "        n = 3*n + 1\n",
        "        if n > altitude : # si n est supérieur à l'altitude actuelle, on réaffecte l'altitude à cette nouvelle valeur\n",
        "            altitude = n\n",
        "    temps_de_vol = temps_de_vol + 1 # que l'on peut écrire aussi : temps_de_vol += 1\n",
        "    print(n, \" \", end = '')\n",
        "\n",
        "print()\n",
        "print('Temps de vol : ' + str(temps_de_vol))\n",
        "print('Altitude     : ' + str(altitude))"
      ],
      "metadata": {
        "colab": {
          "base_uri": "https://localhost:8080/"
        },
        "id": "_lBnxDjp7Tqs",
        "outputId": "8f8caa13-a17c-4184-8156-076d86d5b5cd"
      },
      "execution_count": null,
      "outputs": [
        {
          "output_type": "stream",
          "name": "stdout",
          "text": [
            "7  22  11  34  17  52  26  13  40  20  10  5  16  8  4  2  1  \n",
            "Temps de vol : 17\n",
            "Altitude     : 52\n"
          ]
        }
      ]
    },
    {
      "cell_type": "markdown",
      "source": [
        "5. *Fonction complète*\n",
        "\n",
        "Écrivez la fonction complète \"syracuse(n)\" qui reçoit un entier n en paramètre d'entrée, et retourne : la liste des entiers parcourus de n à 1, le temps de vol de n, et l'altitude de n."
      ],
      "metadata": {
        "id": "iPg0qpTn5xeh"
      }
    },
    {
      "cell_type": "code",
      "source": [
        "def syracuse(n) :\n",
        "    '''Cette fonction reçoit un entier n en paramètre d'entrée\n",
        "    et retourne :\n",
        "    - la liste des entiers jusqu'à 1 dans la suite de Syracuse\n",
        "    - le temps de vol de n\n",
        "    - l'altitude de n'''\n",
        "\n",
        "    u = [n] # on fabrique une liste, qui va s'allonger à chaque passage dans la boucle\n",
        "    t = 1\n",
        "    a = n\n",
        "\n",
        "    while  n != 1 :     # le symbole \"!=\" désigne le test de non-égalité\n",
        "        n = suivant(n)  # on réaffecte n, en réutilisant la fonction \"suivant\" précédemment définie\n",
        "        u.append(n)     # on allonge la liste avec la nouvelle valeur\n",
        "        t = t + 1\n",
        "        if n > a :\n",
        "            a = n\n",
        "    return u, t, a"
      ],
      "metadata": {
        "id": "Ud-aXuBH8Ijl"
      },
      "execution_count": null,
      "outputs": []
    },
    {
      "cell_type": "code",
      "source": [
        "suite, temps_de_vol, altitude = syracuse(7)\n",
        "\n",
        "print(suite)\n",
        "print('Temps de vol : ' + str(temps_de_vol))\n",
        "print('Altitude     : ' + str(altitude))"
      ],
      "metadata": {
        "colab": {
          "base_uri": "https://localhost:8080/"
        },
        "id": "LgUjv8Bg8cXD",
        "outputId": "53d3e8d1-5a14-4226-90a3-8892fb4f7ec2"
      },
      "execution_count": null,
      "outputs": [
        {
          "output_type": "stream",
          "name": "stdout",
          "text": [
            "[7, 22, 11, 34, 17, 52, 26, 13, 40, 20, 10, 5, 16, 8, 4, 2, 1]\n",
            "Temps de vol : 17\n",
            "Altitude     : 52\n"
          ]
        }
      ]
    },
    {
      "cell_type": "markdown",
      "source": [
        "6. *Bonus : vérifiez la conjecture de Syracuse pour tout entier entre 1 et 50 (ou 5000...).*\n",
        "\n",
        "    *Attention, notre programme ne s'arrête QUE parce que l'on fait confiance aux mathématiciens qui ont dit que c'était le cas. Si ce n'était pas le cas, s'il bouclait sans s'arrêter, on ne saurait pas si c'est parce qu'un des entiers monte très haut et très longtemps, ou parce que l'on serait tombé sur un exemple de boucle infinie...*\n",
        "\n",
        "    *Pour tous les nombres initiaux entre 1 et 5000, calculez le record des temps de vol et indiquer pour quel entier de départ, calculez le record des altitudes et indiquer pour quel entier de départ.*"
      ],
      "metadata": {
        "id": "KD1TeLgJ9Tpd"
      }
    },
    {
      "cell_type": "code",
      "source": [
        "# si le programme s'arrête, c'est que la conjecture de Syracuse est vérifiée pour tout entier entre 1 et 5000\n",
        "# Cela ne devrait pas demander plus de 3 secondes...\n",
        "\n",
        "record_temps_de_vol = 1\n",
        "rang_temps_de_vol = 1\n",
        "record_altitude = 1\n",
        "rang_altitude = 1\n",
        "\n",
        "for N in range(1,5001) :    # boucle \"Pour\"\n",
        "                            # range(1,5001) désigne la liste des enteirs entre 1 inclus et 5001 exclu\n",
        "    n = N\n",
        "    suite, temps_de_vol, altitude = syracuse(n)\n",
        "\n",
        "    if temps_de_vol > record_temps_de_vol :\n",
        "        record_temps_de_vol = temps_de_vol\n",
        "        rang_temps_de_vol = N\n",
        "    if altitude > record_altitude :\n",
        "        record_altitude = altitude\n",
        "        rang_altitude = N\n",
        "\n",
        "print(\"Si ce message s'affiche, c'est que la conjecture de Syracuse est vérifiée pour tout n entre 1 et 5000.\")\n",
        "print('Record des temps de vol  : ' + str(record_temps_de_vol) + ', au rang : ' + str(rang_temps_de_vol))\n",
        "print('Record des altitudes     : ' + str(record_altitude) + ', au rang : ' + str(rang_altitude))"
      ],
      "metadata": {
        "colab": {
          "base_uri": "https://localhost:8080/"
        },
        "id": "RRg0N7Wj_CVW",
        "outputId": "00a872ce-ae38-4c83-f135-93f0e49d72c4"
      },
      "execution_count": null,
      "outputs": [
        {
          "output_type": "stream",
          "name": "stdout",
          "text": [
            "Si ce message s'affiche, c'est que la conjecture de Syracuse est vérifiée pour tout n entre 1 et 5000.\n",
            "Record des temps de vol  : 238, au rang : 3711\n",
            "Record des altitudes     : 8153620, au rang : 4591\n"
          ]
        }
      ]
    },
    {
      "cell_type": "markdown",
      "source": [
        "**Remarque : structure travaillée : boucle \"Pour\"**"
      ],
      "metadata": {
        "id": "CJqhJHNUD_b-"
      }
    },
    {
      "cell_type": "markdown",
      "source": [
        "### **TP n°2 : Programmer en utilisant des fonctions, et simuler le hasard**"
      ],
      "metadata": {
        "id": "icwVlZsZPTiK"
      }
    },
    {
      "cell_type": "markdown",
      "source": [
        "1. **Construction du triangle de Pascal**\n",
        "\n",
        "La formule de Pascal donne un procédé assez rapide :\n",
        "\n",
        "![Formule de Pascal](https://wikimedia.org/api/rest_v1/media/math/render/svg/203b128a098e18cbb8cf36d004bd7282b28461bf)\n",
        "\n",
        "<img src=\"https://www.logamaths.fr/wp-content/uploads/2021/01/Triangle-de-Pascal-01-3.png\" width=\"250\" height=\"250\" align = \"right\"/>\n",
        "\n",
        "(chaque coefficient - hors cas particuliers - est calculé en faisant la somme du coefficient qui lui est juste au-dessus, et de celui qui lui est immédiatement au-dessus à gauche).\n",
        "\n",
        "\n",
        "Dans notre programme Python, notre triangle de Pascal sera représenté par une **liste de liste**."
      ],
      "metadata": {
        "id": "MeTRBqPqM6gy"
      }
    },
    {
      "cell_type": "code",
      "metadata": {
        "id": "AQGH2c2XAhBR"
      },
      "source": [
        "def triangle_Pascal(num_ligne) :\n",
        "    '''Cette fonction reçoit en paramètre d'entrée un entier n\n",
        "    et calcule le triangle de Pascal, jusqu'à la ligne n°n\n",
        "    (rappel : lignes et colonnes sont numérotées à partir de 0\n",
        "    dans le triangle de Pascal)'''\n",
        "\n",
        "    tp = [[1]]\n",
        "    for n in range(1,num_ligne + 1 ):\n",
        "        l = tp[n-1][:]+[0] # on ajoute un terme nul à la ligne du dessus, pour ne pas avoir à traiter à part le dernier élément\n",
        "        ligne_n = [1]\n",
        "        for k in range(1,n+1):\n",
        "            ligne_n.append(l[k-1] + l[k])   # ajout du nouveau terle à la ligne n\n",
        "\n",
        "        tp.append(ligne_n)                  # on ajoute la ligne dernièrement constituée\n",
        "    return(tp)\n"
      ],
      "execution_count": null,
      "outputs": []
    },
    {
      "cell_type": "code",
      "metadata": {
        "id": "IKftWDepAhBX",
        "colab": {
          "base_uri": "https://localhost:8080/"
        },
        "outputId": "6089471e-d257-4909-c27d-ba59ae4a8ed0"
      },
      "source": [
        "triangle_Pascal(6)"
      ],
      "execution_count": null,
      "outputs": [
        {
          "output_type": "execute_result",
          "data": {
            "text/plain": [
              "[[1],\n",
              " [1, 1],\n",
              " [1, 2, 1],\n",
              " [1, 3, 3, 1],\n",
              " [1, 4, 6, 4, 1],\n",
              " [1, 5, 10, 10, 5, 1],\n",
              " [1, 6, 15, 20, 15, 6, 1]]"
            ]
          },
          "metadata": {},
          "execution_count": 3
        }
      ]
    },
    {
      "cell_type": "markdown",
      "source": [
        "**Bonus :** il est possible d'observer le déroulement pas à pas d'un programme Python, avec le module ***Python Tutor***...\n",
        "\n",
        "La syntaxe suivante est réservée aux NoteBooks, mais on peut aussi copier le code à simuler dans le Python Tutor en ligne : ici : https://pythontutor.com/render.html#mode=edit"
      ],
      "metadata": {
        "id": "wfl7rbfoU8dh"
      }
    },
    {
      "cell_type": "code",
      "source": [
        "# !pip install metakernel\n",
        "# enlever le \"#\" ci-dessus lors de la 1ère exécution de Python Tutor\n",
        "from metakernel import register_ipython_magics\n",
        "register_ipython_magics()"
      ],
      "metadata": {
        "id": "KdB-tliVWmMm"
      },
      "execution_count": null,
      "outputs": []
    },
    {
      "cell_type": "code",
      "source": [
        "%%tutor\n",
        "\n",
        "def triangle_Pascal(num_ligne) :\n",
        "    tp = [[1]]\n",
        "    for n in range(1,num_ligne + 1 ):\n",
        "        l = tp[n-1][:]+[0] # on ajoute un terme nul à la ligne du dessus, pour ne pas avoir à traiter à part le dernier élément\n",
        "        ligne_n = [1]\n",
        "        for k in range(1,n+1):\n",
        "            ligne_n.append(l[k-1] + l[k])   # ajout du nouveau terle à la ligne n\n",
        "\n",
        "        tp.append(ligne_n)                  # on ajoute la ligne dernièrement constituée\n",
        "    return(tp)\n",
        "\n",
        "triangle_Pascal(3)"
      ],
      "metadata": {
        "colab": {
          "base_uri": "https://localhost:8080/",
          "height": 521
        },
        "id": "LtDEO78fWsJh",
        "outputId": "b0cdcc6a-8cb7-4113-d78b-3b093719d705"
      },
      "execution_count": null,
      "outputs": [
        {
          "output_type": "display_data",
          "data": {
            "text/plain": [
              "<IPython.lib.display.IFrame at 0x7efef5af5b90>"
            ],
            "text/html": [
              "\n",
              "        <iframe\n",
              "            width=\"100%\"\n",
              "            height=\"500\"\n",
              "            src=\"https://pythontutor.com/iframe-embed.html#code=%0Adef%20triangle_Pascal%28num_ligne%29%20%3A%20%20%20%20%0A%20%20%20%20tp%20%3D%20%5B%5B1%5D%5D%0A%20%20%20%20for%20n%20in%20range%281%2Cnum_ligne%20%2B%201%20%29%3A%0A%20%20%20%20%20%20%20%20l%20%3D%20tp%5Bn-1%5D%5B%3A%5D%2B%5B0%5D%20%23%20on%20ajoute%20un%20terme%20nul%20%C3%A0%20la%20ligne%20du%20dessus%2C%20pour%20ne%20pas%20avoir%20%C3%A0%20traiter%20%C3%A0%20part%20le%20dernier%20%C3%A9l%C3%A9ment%0A%20%20%20%20%20%20%20%20ligne_n%20%3D%20%5B1%5D%0A%20%20%20%20%20%20%20%20for%20k%20in%20range%281%2Cn%2B1%29%3A%0A%20%20%20%20%20%20%20%20%20%20%20%20ligne_n.append%28l%5Bk-1%5D%20%2B%20l%5Bk%5D%29%20%20%20%23%20ajout%20du%20nouveau%20terle%20%C3%A0%20la%20ligne%20n%0A%0A%20%20%20%20%20%20%20%20tp.append%28ligne_n%29%20%20%20%20%20%20%20%20%20%20%20%20%20%20%20%20%20%20%23%20on%20ajoute%20la%20ligne%20derni%C3%A8rement%20constitu%C3%A9e%0A%20%20%20%20return%28tp%29%0A%0Atriangle_Pascal%283%29%0A&origin=opt-frontend.js&cumulative=false&heapPrimitives=false&textReferences=false&py=3&rawInputLstJSON=%5B%5D&curInstr=0&codeDivWidth=350&codeDivHeight=400\"\n",
              "            frameborder=\"0\"\n",
              "            allowfullscreen\n",
              "            \n",
              "        ></iframe>\n",
              "        "
            ]
          },
          "metadata": {}
        }
      ]
    },
    {
      "cell_type": "markdown",
      "source": [
        "2.  **Calcul des \"coefficients binomiaux\", également appelés \"combinaisons\"**\n",
        "\n",
        "Rappelons que la numérotation des listes en Python démarre à 0.\n",
        "\n",
        "Le coefficient $\\binom{n}{k}$ se lit donc directement dans le triangle de Pascal, sur la ligne n°n et à la colonne n°k.\n",
        "\n",
        "On pense à gérer les cas particuliers où k=0, k=n ou k>n..."
      ],
      "metadata": {
        "id": "7lDVwojvNMJ3"
      }
    },
    {
      "cell_type": "code",
      "source": [
        "n = 6\n",
        "tp = triangle_Pascal(n) # on construit le triangle de Pascal jusqu'à la ligne n\n",
        "\n",
        "def combinaison(k,n) :\n",
        "    if k > n :\n",
        "        c = 0\n",
        "    elif k == 0 | k == n :  # le symbole \"|\" signfie \"ou\"\n",
        "        c = 1\n",
        "    elif k < n :            # astuce : lorsque l'on énumère des cas distincts,\n",
        "                            # un elif plutôt qu'un else en dernier cas est pratique...\n",
        "        c = tp[n][k]        # on va lire le coefficient \"k parmi n\" : ligne n°n, colonne n°k\n",
        "    return c"
      ],
      "metadata": {
        "id": "cEWZLwu1OSSA"
      },
      "execution_count": null,
      "outputs": []
    },
    {
      "cell_type": "code",
      "source": [
        "print(combinaison(2,6))\n",
        "print(combinaison(0,5))\n",
        "print(combinaison(3,3))\n",
        "print(combinaison(10,3))"
      ],
      "metadata": {
        "colab": {
          "base_uri": "https://localhost:8080/"
        },
        "id": "UzJtiz10TyTY",
        "outputId": "5042f86e-d7b8-449b-bd6b-bd78a5a95ae1"
      },
      "execution_count": null,
      "outputs": [
        {
          "output_type": "stream",
          "name": "stdout",
          "text": [
            "15\n",
            "1\n",
            "1\n",
            "0\n"
          ]
        }
      ]
    },
    {
      "cell_type": "markdown",
      "source": [
        "2. **Calcul des probabilités dans une variable aléatoire suivant une loi binomiale**\n",
        "\n",
        "Rappelons que si l'on répète n fois, de manière indépendante, une expérience de type succès / échec, dont la probabilité de succès vaut p, alors, quel que soit l'entier k compris entre 0 et n, si X désigne la variable aléatoire égale au nombre de succès,\n",
        "\n",
        "$P \\left ( \\left[ X = k \\right ] \\right ) = \\binom{n}{k} . p^k . (1-p)^{n-k}$\n",
        "\n",
        "Écrire une fonction \"loi_binomiale(n,p)\", qui, recevant les paramètres $n$ et $p$, retourne une liste avec toutes les probabilités des événements $[X = k]$ où k est un en entier compris entre 0 et n."
      ],
      "metadata": {
        "id": "OLb2npO5ZpGG"
      }
    },
    {
      "cell_type": "code",
      "source": [
        "n = 6\n",
        "p = 0.4\n",
        "\n",
        "tp = triangle_Pascal(n)             # on construit le triangle de Pascal jusqu'à la ligne n"
      ],
      "metadata": {
        "id": "rxGE8fy1dWP_"
      },
      "execution_count": null,
      "outputs": []
    },
    {
      "cell_type": "code",
      "source": [
        "n = 4\n",
        "p = 0.7\n",
        "\n",
        "tp = triangle_Pascal(n)"
      ],
      "metadata": {
        "id": "Mw2sKGwgohEa"
      },
      "execution_count": null,
      "outputs": []
    },
    {
      "cell_type": "code",
      "source": [
        "k=1\n",
        "pp = combinaison(k,n)* p**k * (1-p)**(n-k)\n",
        "pp"
      ],
      "metadata": {
        "colab": {
          "base_uri": "https://localhost:8080/"
        },
        "id": "WjGB-pSmonH2",
        "outputId": "8d3f58e3-15c7-482b-eddc-6509c6357bf0"
      },
      "execution_count": null,
      "outputs": [
        {
          "output_type": "execute_result",
          "data": {
            "text/plain": [
              "0.07560000000000003"
            ]
          },
          "metadata": {},
          "execution_count": 11
        }
      ]
    },
    {
      "cell_type": "code",
      "source": [
        "combinaison(k,n)\n"
      ],
      "metadata": {
        "colab": {
          "base_uri": "https://localhost:8080/"
        },
        "id": "oyy6W1JepXIm",
        "outputId": "2b1efdc2-b476-4ba0-b2a7-bbc80f004841"
      },
      "execution_count": null,
      "outputs": [
        {
          "output_type": "execute_result",
          "data": {
            "text/plain": [
              "4"
            ]
          },
          "metadata": {},
          "execution_count": 12
        }
      ]
    },
    {
      "cell_type": "code",
      "source": [
        "list(range(5))"
      ],
      "metadata": {
        "colab": {
          "base_uri": "https://localhost:8080/"
        },
        "id": "TU8msff0pyoZ",
        "outputId": "b94d4150-4d2b-4eba-a3ee-718766a1e0a0"
      },
      "execution_count": null,
      "outputs": [
        {
          "output_type": "execute_result",
          "data": {
            "text/plain": [
              "[0, 1, 2, 3, 4]"
            ]
          },
          "metadata": {},
          "execution_count": 14
        }
      ]
    },
    {
      "cell_type": "code",
      "source": [
        "def loi_binomiale(n,p) :\n",
        "    X_Om = list(range(n+1))\n",
        "    loi = []\n",
        "    for k in X_Om :\n",
        "        prob = combinaison(k,n) * p**k * (1-p)**(n-k)\n",
        "        loi.append(prob)\n",
        "    return X_Om, loi"
      ],
      "metadata": {
        "id": "aC9tfqN2UGd7"
      },
      "execution_count": null,
      "outputs": []
    },
    {
      "cell_type": "code",
      "source": [
        "X_Omega, loi_X = loi_binomiale(n,p)\n",
        "\n",
        "print(X_Omega)\n",
        "print(loi_X)"
      ],
      "metadata": {
        "colab": {
          "base_uri": "https://localhost:8080/"
        },
        "id": "tI3BziKlb0W0",
        "outputId": "7c9f41a7-a465-4b03-80a9-df5f19c51776"
      },
      "execution_count": null,
      "outputs": [
        {
          "output_type": "stream",
          "name": "stdout",
          "text": [
            "[0, 1, 2, 3, 4]\n",
            "[0.008100000000000005, 0.07560000000000003, 0.2646, 0.41159999999999997, 0.24009999999999995]\n"
          ]
        }
      ]
    },
    {
      "cell_type": "markdown",
      "source": [
        "3. **Représentation graphique de la loi de X**\n",
        "\n",
        "La représentation graphique adaptée pour toutes les lois discrètes est l'**histogramme**.\n",
        "\n",
        "Un module Python permet de réaliser des graphiques : le module ***MatPlotLib.PyPlot***\n",
        "\n",
        "Tout d'abord, on l'importe..."
      ],
      "metadata": {
        "id": "roXuXZ8if3TC"
      }
    },
    {
      "cell_type": "code",
      "source": [
        "import matplotlib.pyplot as plt"
      ],
      "metadata": {
        "id": "Hcazek6EcBkU"
      },
      "execution_count": null,
      "outputs": []
    },
    {
      "cell_type": "code",
      "source": [
        "largeur = (X_Omega[-1] - X_Omega[0])/100 # juste pour choisir la largeur des bâtons\n",
        "plt.bar(X_Omega, loi_X, width = 3*largeur, color = 'blue', alpha = 0.3, label = 'Probabilites theoriques')\n",
        "\n",
        "# ajouts cosmétiques\n",
        "plt.xlabel('X_Omega')\n",
        "plt.ylabel('Probabilités')\n",
        "plt.show()"
      ],
      "metadata": {
        "colab": {
          "base_uri": "https://localhost:8080/",
          "height": 280
        },
        "id": "ylKZ1OZtgfKd",
        "outputId": "d51c3e37-156c-40b5-e519-effefacd9983"
      },
      "execution_count": null,
      "outputs": [
        {
          "output_type": "display_data",
          "data": {
            "text/plain": [
              "<Figure size 432x288 with 1 Axes>"
            ],
            "image/png": "[encoded data removed]"
          },
          "metadata": {
            "needs_background": "light"
          }
        }
      ]
    },
    {
      "cell_type": "markdown",
      "source": [
        "4. **Simulation de tirages aléatoires selon la loi binomiale**\n",
        "\n",
        "On va procéder uniquement algorithmiquement :     \n",
        "* on crée une fonction pour simuler une variable de Bernoulli de probabilté p,\n",
        "* on répète n fois cette expérience, on compte le nombre de succès, on obtient 1 simulation d'un tirage binomial de paramètres n et p\n",
        "* on constitue N tirages binomiaux\n",
        "* on les **\"tabule\"**, c'est-à-dire que l'on dresse un tableau des effectfs des résultats obtenus\n",
        "* on réalise le graphique"
      ],
      "metadata": {
        "id": "eCeOb-aziMRp"
      }
    },
    {
      "cell_type": "markdown",
      "source": [
        "Pour simuler le hasard, on a tout d'abord besoin du module ***NumPy.Random***"
      ],
      "metadata": {
        "id": "K4-dplkCkZyw"
      }
    },
    {
      "cell_type": "code",
      "source": [
        "import numpy.random as rd"
      ],
      "metadata": {
        "id": "pCMOEY75khu8"
      },
      "execution_count": null,
      "outputs": []
    },
    {
      "cell_type": "markdown",
      "source": [
        "Fonction pour effectuer une simulation d'un tirage de Bernoulli de probabilité p :"
      ],
      "metadata": {
        "id": "ADMd2e3Wl3SB"
      }
    },
    {
      "cell_type": "code",
      "source": [
        "def bernoulli(p) :\n",
        "    # On lance une fléchette aléatoire entre 0 et 1\n",
        "    # si elle tombe à gauche de p, c'est un succès, valeur 1\n",
        "    # sinon, c'est un échec, valeur 0\n",
        "    return int(rd.random() < p)     # rd.random < p est un test,\n",
        "                                    # si sa valeur est \"vrai\", la fonction int le transforme en 1\n",
        "                                    # sinon, la fonction int le transforme en 0\n"
      ],
      "metadata": {
        "id": "pkSzR6DNjWoo"
      },
      "execution_count": null,
      "outputs": []
    },
    {
      "cell_type": "code",
      "source": [
        "p = 0.7\n",
        "u = rd.random()\n",
        "u"
      ],
      "metadata": {
        "colab": {
          "base_uri": "https://localhost:8080/"
        },
        "id": "4CbjbIlesetG",
        "outputId": "6b640690-9366-48d4-b9e4-362efcf52ef8"
      },
      "execution_count": null,
      "outputs": [
        {
          "output_type": "execute_result",
          "data": {
            "text/plain": [
              "0.9951912980694532"
            ]
          },
          "metadata": {},
          "execution_count": 28
        }
      ]
    },
    {
      "cell_type": "code",
      "source": [
        "u<p"
      ],
      "metadata": {
        "colab": {
          "base_uri": "https://localhost:8080/"
        },
        "id": "0fW1-dsbslJj",
        "outputId": "d1764929-2665-43ef-869e-365c694efc7e"
      },
      "execution_count": null,
      "outputs": [
        {
          "output_type": "execute_result",
          "data": {
            "text/plain": [
              "True"
            ]
          },
          "metadata": {},
          "execution_count": 23
        }
      ]
    },
    {
      "cell_type": "code",
      "source": [
        "int(u<p)"
      ],
      "metadata": {
        "colab": {
          "base_uri": "https://localhost:8080/"
        },
        "id": "4glpZ0n2srAg",
        "outputId": "5a14eb5b-a60e-4a39-90d8-3c3ab1168f58"
      },
      "execution_count": null,
      "outputs": [
        {
          "output_type": "execute_result",
          "data": {
            "text/plain": [
              "1"
            ]
          },
          "metadata": {},
          "execution_count": 24
        }
      ]
    },
    {
      "cell_type": "markdown",
      "source": [
        "Fonction pour effectuer une simulation d'un tirage binomial de paramètre (n,p, en répétant n fois un tirage de Bernoulli de paramètre p :"
      ],
      "metadata": {
        "id": "RW3yN5Bfl_H2"
      }
    },
    {
      "cell_type": "code",
      "source": [
        "def binomiale(n,p):\n",
        "    B = []\n",
        "    for k in range(n): # on fabrique une liste de n tirages de Bernoulli\n",
        "        B.append(bernoulli(p))\n",
        "    print(B)\n",
        "    return sum(B) # ceci est égal au nombre de succès"
      ],
      "metadata": {
        "id": "Fu9bo0Syjjen"
      },
      "execution_count": null,
      "outputs": []
    },
    {
      "cell_type": "code",
      "source": [
        "binomiale(4,0.7)"
      ],
      "metadata": {
        "colab": {
          "base_uri": "https://localhost:8080/"
        },
        "id": "6xXA7N0TtGza",
        "outputId": "184002e9-8659-4b60-be6e-e5e4efdf8b6c"
      },
      "execution_count": null,
      "outputs": [
        {
          "output_type": "stream",
          "name": "stdout",
          "text": [
            "[1, 1, 0, 1]\n"
          ]
        },
        {
          "output_type": "execute_result",
          "data": {
            "text/plain": [
              "3"
            ]
          },
          "metadata": {},
          "execution_count": 32
        }
      ]
    },
    {
      "cell_type": "markdown",
      "source": [
        "Fonction pour effectuer un échantillon aléatoire de N valeurs simulées selon la loi binomiale de paramètre (n,p)"
      ],
      "metadata": {
        "id": "0So2Mojumcmo"
      }
    },
    {
      "cell_type": "code",
      "source": [
        "def echantillon_binomiale(N,n,p):\n",
        "    # On effectue N tirages aléatoires binomiaux de paramètres (n,p)\n",
        "    echt = []\n",
        "    for k in range(N):\n",
        "        b = binomiale(n,p)\n",
        "        echt = echt + [b]\n",
        "    return echt"
      ],
      "metadata": {
        "id": "OZCqeJRxjm3F"
      },
      "execution_count": null,
      "outputs": []
    },
    {
      "cell_type": "markdown",
      "source": [
        "Tirage d'un échantillon de N valeurs binomiales selon la loi B(n,p)"
      ],
      "metadata": {
        "id": "4XpfStXJm81Y"
      }
    },
    {
      "cell_type": "code",
      "source": [
        "n = 4 # nombre d'expériences de bernoulli\n",
        "p = 0.7 # probabilité de succès\n",
        "N = 100 # taille des échantillons\n",
        "\n",
        "# échantillon de N valeurs simulées selon la loi binomiale B(n,p)\n",
        "echantillon = [0]*N\n",
        "\n",
        "print('Échantillon de',N, 'tirages selon la loi B(',n,';',p,')')\n",
        "echantillon[:] = echantillon_binomiale(N,n,p)\n",
        "S = sum(echantillon)\n",
        "print(echantillon)"
      ],
      "metadata": {
        "colab": {
          "base_uri": "https://localhost:8080/"
        },
        "id": "Tg8FLc5djtDY",
        "outputId": "de46dbe9-6e3c-4fe2-dac1-17c150f54892"
      },
      "execution_count": null,
      "outputs": [
        {
          "output_type": "stream",
          "name": "stdout",
          "text": [
            "Échantillon de 100 tirages selon la loi B( 4 ; 0.7 )\n",
            "[1, 1, 1, 1]\n",
            "[1, 1, 1, 0]\n",
            "[1, 1, 1, 1]\n",
            "[1, 1, 1, 1]\n",
            "[0, 1, 1, 1]\n",
            "[1, 1, 1, 1]\n",
            "[0, 1, 1, 1]\n",
            "[1, 1, 1, 1]\n",
            "[1, 0, 1, 1]\n",
            "[0, 1, 0, 1]\n",
            "[1, 1, 0, 0]\n",
            "[1, 0, 0, 1]\n",
            "[1, 1, 1, 1]\n",
            "[1, 1, 1, 1]\n",
            "[1, 0, 1, 0]\n",
            "[0, 0, 1, 1]\n",
            "[1, 1, 0, 1]\n",
            "[1, 1, 1, 1]\n",
            "[1, 1, 0, 1]\n",
            "[1, 1, 0, 1]\n",
            "[1, 1, 0, 1]\n",
            "[0, 0, 1, 1]\n",
            "[1, 1, 1, 1]\n",
            "[0, 0, 1, 0]\n",
            "[1, 1, 1, 1]\n",
            "[1, 1, 1, 1]\n",
            "[1, 1, 1, 0]\n",
            "[0, 1, 0, 0]\n",
            "[1, 1, 1, 1]\n",
            "[0, 0, 1, 1]\n",
            "[1, 0, 1, 0]\n",
            "[1, 1, 1, 1]\n",
            "[1, 1, 0, 1]\n",
            "[1, 1, 1, 1]\n",
            "[1, 1, 1, 1]\n",
            "[1, 1, 1, 1]\n",
            "[1, 1, 1, 1]\n",
            "[1, 0, 0, 1]\n",
            "[1, 1, 1, 1]\n",
            "[1, 1, 1, 1]\n",
            "[1, 0, 1, 1]\n",
            "[1, 0, 1, 0]\n",
            "[0, 1, 0, 1]\n",
            "[1, 1, 1, 0]\n",
            "[1, 1, 1, 0]\n",
            "[1, 1, 0, 1]\n",
            "[1, 1, 1, 1]\n",
            "[0, 1, 1, 0]\n",
            "[0, 1, 0, 1]\n",
            "[1, 0, 1, 1]\n",
            "[1, 1, 0, 1]\n",
            "[1, 1, 1, 1]\n",
            "[1, 1, 0, 1]\n",
            "[1, 1, 1, 1]\n",
            "[1, 1, 1, 1]\n",
            "[0, 1, 0, 1]\n",
            "[0, 1, 0, 1]\n",
            "[0, 0, 1, 1]\n",
            "[0, 0, 1, 0]\n",
            "[1, 1, 1, 1]\n",
            "[0, 1, 1, 0]\n",
            "[1, 1, 1, 1]\n",
            "[0, 1, 1, 1]\n",
            "[1, 0, 0, 1]\n",
            "[1, 0, 1, 0]\n",
            "[0, 1, 1, 1]\n",
            "[1, 1, 1, 1]\n",
            "[0, 1, 0, 1]\n",
            "[1, 1, 1, 1]\n",
            "[1, 0, 1, 0]\n",
            "[0, 1, 1, 1]\n",
            "[1, 0, 1, 1]\n",
            "[0, 1, 1, 1]\n",
            "[1, 0, 1, 1]\n",
            "[0, 0, 0, 1]\n",
            "[1, 1, 1, 0]\n",
            "[1, 0, 1, 1]\n",
            "[0, 1, 1, 1]\n",
            "[1, 0, 1, 1]\n",
            "[1, 0, 1, 0]\n",
            "[0, 1, 1, 0]\n",
            "[0, 0, 1, 1]\n",
            "[0, 1, 0, 1]\n",
            "[1, 1, 1, 0]\n",
            "[1, 1, 1, 1]\n",
            "[1, 0, 1, 1]\n",
            "[1, 1, 1, 1]\n",
            "[1, 1, 0, 1]\n",
            "[1, 1, 1, 1]\n",
            "[1, 1, 1, 0]\n",
            "[1, 1, 1, 0]\n",
            "[1, 0, 1, 1]\n",
            "[1, 1, 0, 1]\n",
            "[1, 1, 1, 0]\n",
            "[0, 1, 0, 1]\n",
            "[1, 0, 1, 0]\n",
            "[1, 1, 0, 1]\n",
            "[0, 0, 0, 1]\n",
            "[0, 0, 1, 0]\n",
            "[1, 1, 1, 0]\n",
            "[4, 3, 4, 4, 3, 4, 3, 4, 3, 2, 2, 2, 4, 4, 2, 2, 3, 4, 3, 3, 3, 2, 4, 1, 4, 4, 3, 1, 4, 2, 2, 4, 3, 4, 4, 4, 4, 2, 4, 4, 3, 2, 2, 3, 3, 3, 4, 2, 2, 3, 3, 4, 3, 4, 4, 2, 2, 2, 1, 4, 2, 4, 3, 2, 2, 3, 4, 2, 4, 2, 3, 3, 3, 3, 1, 3, 3, 3, 3, 2, 2, 2, 2, 3, 4, 3, 4, 3, 4, 3, 3, 3, 3, 3, 2, 2, 3, 1, 1, 3]\n"
          ]
        }
      ]
    },
    {
      "cell_type": "markdown",
      "source": [
        "Fonction pour **tabuler** l'échantillon, c'est-à-dire pour calculer les effectifs de chaque valeur obtenue dans l'échantillon binomiale :     "
      ],
      "metadata": {
        "id": "BD4_LmTtmIeQ"
      }
    },
    {
      "cell_type": "code",
      "source": [
        "def tabuler(X_Omega, echantillon):\n",
        "    card = len(X_Omega)\n",
        "    frequences = [0]*card\n",
        "\n",
        "    for k in echantillon :\n",
        "        if k <= X_Omega[-1]:\n",
        "            frequences[k-X_Omega[0]] = frequences[k-X_Omega[0]] + 1/N\n",
        "\n",
        "    #print(frequences)\n",
        "    return(frequences)\n"
      ],
      "metadata": {
        "id": "5mOijH-Qi8xV"
      },
      "execution_count": null,
      "outputs": []
    },
    {
      "cell_type": "markdown",
      "source": [
        "Tabulation de l'échantillon"
      ],
      "metadata": {
        "id": "s-luEiQznXSJ"
      }
    },
    {
      "cell_type": "code",
      "source": [
        "# tabulation de la simulation\n",
        "frequences = tabuler(X_Omega,echantillon)\n",
        "print(X_Omega)\n",
        "print(frequences)"
      ],
      "metadata": {
        "colab": {
          "base_uri": "https://localhost:8080/"
        },
        "id": "cqZuW1s_naDQ",
        "outputId": "d1443406-fc77-4577-e161-3df15eb9e590"
      },
      "execution_count": null,
      "outputs": [
        {
          "output_type": "stream",
          "name": "stdout",
          "text": [
            "[0, 1, 2, 3, 4]\n",
            "[0, 0.060000000000000005, 0.2700000000000001, 0.37000000000000016, 0.3000000000000001]\n"
          ]
        }
      ]
    },
    {
      "cell_type": "markdown",
      "source": [
        "Calcul de la loi théorique"
      ],
      "metadata": {
        "id": "ztHjoEt1nlb7"
      }
    },
    {
      "cell_type": "code",
      "source": [
        "# loi Binomiale théorique\n",
        "X_Omega, loi_X = loi_binomiale(n,p)"
      ],
      "metadata": {
        "id": "Imed0CrBnnu-"
      },
      "execution_count": null,
      "outputs": []
    },
    {
      "cell_type": "markdown",
      "source": [
        "Fonction de représentation graphique un peu améliorée :"
      ],
      "metadata": {
        "id": "wzHL0SbtnHis"
      }
    },
    {
      "cell_type": "code",
      "source": [
        "# Représentation graphique améliorée de la simulation et de la loi théorique\n",
        "\n",
        "def diagramme_batons(X_Omega,tabule,probabilites):\n",
        "    # tracer les diagrammes en bâtons\n",
        "    plt.grid(True)\n",
        "    largeur = (X_Omega[-1] - X_Omega[0])/100\n",
        "\n",
        "    plt.bar(X_Omega, probabilites, width = 3*largeur, color = 'blue', alpha = 0.3, label = 'Probabilites theoriques')\n",
        "    plt.bar(X_Omega, tabule, width = largeur, color = 'red', alpha = 1, label = 'Simulation')\n",
        "\n",
        "    plt.xlabel('X_Omega')\n",
        "    plt.ylabel('Frequences')\n",
        "    plt.legend()\n",
        "\n",
        "    ax = plt.gca() # récupération du paramétrage des axes\n",
        "\n",
        "    ax.spines['left'].set_position('zero') # positionnement de l'axe des ordonnées à x = 0\n",
        "    ax.spines['right'].set_color('none')\n",
        "    ax.spines['bottom'].set_position('zero') # positionnement de l'axe des abscisses à y = 0\n",
        "    ax.spines['top'].set_color('none')"
      ],
      "metadata": {
        "id": "uXQSJ-t9jCrO"
      },
      "execution_count": null,
      "outputs": []
    },
    {
      "cell_type": "markdown",
      "source": [
        "Représentation graphique :"
      ],
      "metadata": {
        "id": "vRzyFXo2nrvs"
      }
    },
    {
      "cell_type": "code",
      "source": [
        "diagramme_batons(X_Omega, frequences, loi_X)\n",
        "\n",
        "plt.title('Simulation de '+ str(N)+' tirages selon une loi B('+str(n)+' , '+ str(p)+')')\n",
        "plt.show()"
      ],
      "metadata": {
        "colab": {
          "base_uri": "https://localhost:8080/",
          "height": 296
        },
        "id": "WQXNoYdAj3el",
        "outputId": "40da0415-b860-4a75-b0ed-ea924afd7a64"
      },
      "execution_count": null,
      "outputs": [
        {
          "output_type": "display_data",
          "data": {
            "text/plain": [
              "<Figure size 432x288 with 1 Axes>"
            ],
            "image/png": "[encoded data removed]"
          },
          "metadata": {
            "needs_background": "light"
          }
        }
      ]
    },
    {
      "cell_type": "code",
      "source": [],
      "metadata": {
        "id": "H9Q4e4swljnd"
      },
      "execution_count": null,
      "outputs": []
    }
  ]
}